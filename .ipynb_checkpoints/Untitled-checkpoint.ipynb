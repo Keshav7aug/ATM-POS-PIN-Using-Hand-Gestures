{
 "cells": [
  {
   "cell_type": "code",
   "execution_count": 2,
   "metadata": {},
   "outputs": [],
   "source": [
    "import cv2\n",
    "import numpy as np\n",
    "from statistics import mode\n",
    "import time\n",
    "face_cascade = cv2.CascadeClassifier(cv2.data.haarcascades +'haarcascade_frontalface_default.xml')"
   ]
  },
  {
   "cell_type": "code",
   "execution_count": 16,
   "metadata": {},
   "outputs": [],
   "source": [
    "img  = cv2.imread('hand.jpg')\n",
    "hsv = cv2.cvtColor(img,cv2.COLOR_BGR2HSV)\n",
    "cv2.imshow(\"hi\",hsv)\n",
    "#cv2.imshow(\"hi\",)\n",
    "cv2.waitKey(0)\n",
    "cap.release()\n",
    "cv2.destroyAllWindows()"
   ]
  },
  {
   "cell_type": "code",
   "execution_count": 2,
   "metadata": {},
   "outputs": [
    {
     "data": {
      "text/plain": [
       "<CascadeClassifier 00000213D84A1E70>"
      ]
     },
     "execution_count": 2,
     "metadata": {},
     "output_type": "execute_result"
    }
   ],
   "source": [
    "face_cascade"
   ]
  },
  {
   "cell_type": "code",
   "execution_count": 11,
   "metadata": {},
   "outputs": [],
   "source": [
    "\n",
    "\n",
    "#cv2.namedWindow(\"Trackbars\")\n",
    "\n",
    "#cv2.createTrackbar(\"L-R\", \"Trackbars\",0,)\n"
   ]
  },
  {
   "cell_type": "code",
   "execution_count": 3,
   "metadata": {},
   "outputs": [],
   "source": [
    "cap = cv2.VideoCapture(1)\n",
    "while True:\n",
    "    ret,frame = cap.read()\n",
    "    #hsv = cv2.cvtClor(frame,cv2.COLOR_BGR2HSV)\n",
    "    gray = cv2.cvtColor(frame, cv2.COLOR_BGR2GRAY)\n",
    "    faces = face_cascade.detectMultiScale(gray, 1.1, 4)\n",
    "    for (x, y, w, h) in faces:\n",
    "        cv2.rectangle(frame, (x, y), (x+w, y+h), (255, 0, 0), 2)\n",
    "        r = max(w, h) / 2\n",
    "        centerx = x + w / 2\n",
    "        centery = y + h / 2\n",
    "        nx = int(centerx - r)\n",
    "        ny = int(centery - r)\n",
    "        nr = int(r * 2)\n",
    "        face = frame[ny:ny+nr, nx:nx+nr]\n",
    "        cv2.imshow(\"Face\",face)\n",
    "        hsv = cv2.cvtColor(face,cv2.COLOR_BGR2HSV)\n",
    "        cv2.imshow(\"hi\",hsv)\n",
    "    cv2.imshow(\"frame\",frame)\n",
    "    \n",
    "    key = cv2.waitKey(1)\n",
    "    if key == 27:\n",
    "        break\n",
    "cap.release()\n",
    "cv2.destroyAllWindows()"
   ]
  },
  {
   "cell_type": "code",
   "execution_count": 26,
   "metadata": {},
   "outputs": [
    {
     "name": "stdout",
     "output_type": "stream",
     "text": [
      "120\n",
      "120\n"
     ]
    }
   ],
   "source": [
    "print(min(hsv[:,0,0]))\n",
    "print(max(hsv[:,0,0]))"
   ]
  },
  {
   "cell_type": "code",
   "execution_count": null,
   "metadata": {},
   "outputs": [],
   "source": []
  },
  {
   "cell_type": "code",
   "execution_count": 27,
   "metadata": {},
   "outputs": [
    {
     "name": "stdout",
     "output_type": "stream",
     "text": [
      "120\n",
      "120\n"
     ]
    }
   ],
   "source": [
    "print(min(hsv[0,:,0]))\n",
    "print(max(hsv[0,:,0]))"
   ]
  },
  {
   "cell_type": "code",
   "execution_count": 1,
   "metadata": {},
   "outputs": [
    {
     "ename": "NameError",
     "evalue": "name 'hsv' is not defined",
     "output_type": "error",
     "traceback": [
      "\u001b[1;31m---------------------------------------------------------------------------\u001b[0m",
      "\u001b[1;31mNameError\u001b[0m                                 Traceback (most recent call last)",
      "\u001b[1;32m<ipython-input-1-e035ab0cc917>\u001b[0m in \u001b[0;36m<module>\u001b[1;34m\u001b[0m\n\u001b[1;32m----> 1\u001b[1;33m \u001b[0mprint\u001b[0m\u001b[1;33m(\u001b[0m\u001b[0mmin\u001b[0m\u001b[1;33m(\u001b[0m\u001b[0mhsv\u001b[0m\u001b[1;33m[\u001b[0m\u001b[1;36m0\u001b[0m\u001b[1;33m,\u001b[0m\u001b[1;36m0\u001b[0m\u001b[1;33m,\u001b[0m\u001b[1;33m:\u001b[0m\u001b[1;33m]\u001b[0m\u001b[1;33m)\u001b[0m\u001b[1;33m)\u001b[0m\u001b[1;33m\u001b[0m\u001b[1;33m\u001b[0m\u001b[0m\n\u001b[0m\u001b[0;32m      2\u001b[0m \u001b[0mprint\u001b[0m\u001b[1;33m(\u001b[0m\u001b[0mmax\u001b[0m\u001b[1;33m(\u001b[0m\u001b[0mhsv\u001b[0m\u001b[1;33m[\u001b[0m\u001b[1;36m0\u001b[0m\u001b[1;33m,\u001b[0m\u001b[1;36m0\u001b[0m\u001b[1;33m,\u001b[0m\u001b[1;33m:\u001b[0m\u001b[1;33m]\u001b[0m\u001b[1;33m)\u001b[0m\u001b[1;33m)\u001b[0m\u001b[1;33m\u001b[0m\u001b[1;33m\u001b[0m\u001b[0m\n",
      "\u001b[1;31mNameError\u001b[0m: name 'hsv' is not defined"
     ]
    }
   ],
   "source": [
    "print(min(hsv[0,0,:]))\n",
    "print(max(hsv[0,0,:]))"
   ]
  },
  {
   "cell_type": "code",
   "execution_count": null,
   "metadata": {},
   "outputs": [],
   "source": [
    "lower_skin = np.array([min(hsv[:,0,0]),min(hsv[0,:,0]),min(hsv[0,0,:])])\n",
    "upper_skin = np.array([max(hsv[:,0,0]),max(hsv[0,:,0]),max(hsv[0,0,:])])\n",
    "mask = cv2.inRange(hsv,lower_skin,upper_skin)\n",
    "result = cv2.bitwise_and(frame,frame,mask=mask)"
   ]
  },
  {
   "cell_type": "code",
   "execution_count": null,
   "metadata": {},
   "outputs": [],
   "source": [
    "def getContours(img,imgC):\n",
    "    contours, hierarchy = cv.findContours(img, cv.RETR_EXTERNAL, cv.CHAIN_APPROX_NONE)\n",
    "    cv2.drawContours(imgC, contours, -1, (0,255,0), 3)"
   ]
  },
  {
   "cell_type": "code",
   "execution_count": 7,
   "metadata": {},
   "outputs": [
    {
     "name": "stdout",
     "output_type": "stream",
     "text": [
      "oops\n",
      "oops\n",
      "5\n"
     ]
    }
   ],
   "source": [
    "#cap = cv2.VideoCapture('video.mp4')\n",
    "file_name=\"Pics/img{}.jpg\"\n",
    "i=0\n",
    "cap = cv2.VideoCapture('http://192.168.0.100:8080/video')\n",
    "frs=0\n",
    "to_fings=[]\n",
    "ans='Recognising...'\n",
    "while True:\n",
    "    _, frame = cap.read()\n",
    "    if _ ==False:\n",
    "        break\n",
    "    try:\n",
    "        hsv = cv2.cvtColor(frame, cv2.COLOR_BGR2HSV)\n",
    "\n",
    "        l_h,l_s,l_v = 73,104,0\n",
    "        u_h,u_s,u_v =179,255,255\n",
    "\n",
    "        lower_blue = np.array([l_h, l_s, l_v])\n",
    "        upper_blue = np.array([u_h, u_s, u_v])\n",
    "        mask = cv2.inRange(hsv, lower_blue, upper_blue)\n",
    "\n",
    "        result = cv2.bitwise_and(frame, frame, mask=mask)\n",
    "        mask1 = cv2.bitwise_not(mask)\n",
    "        hand = cv2.bitwise_and(frame, frame, mask=mask1)\n",
    "        contours, hierarchy = cv2.findContours(mask1, cv2.RETR_EXTERNAL, cv2.CHAIN_APPROX_NONE)\n",
    "        if len(contours)>0:\n",
    "            contours = max(contours, key=lambda x: cv2.contourArea(x))\n",
    "            cv2.drawContours(hand, [contours], -1, (255,255,0), 2)\n",
    "            hull = cv2.convexHull(contours)\n",
    "#             hull2=[]\n",
    "#             for i in hull:\n",
    "#                 try:\n",
    "#                     if len(i[0])>=2:\n",
    "#                         hull2.append(tuple(i[0]))\n",
    "#                 except:\n",
    "#                     print(i)\n",
    "#             hull2.sort()\n",
    "#             hull3=[]\n",
    "#             #print(hull2,'hull2')\n",
    "#             n = len(hull2)\n",
    "#             i=0\n",
    "#             while i<n:\n",
    "#                 flg=True\n",
    "#                 try:\n",
    "\n",
    "#                     a=hull2[i][0]\n",
    "#                     #print(hull2[i])\n",
    "#                     hull3.append(hull2[i])\n",
    "#                     while i<n and hull2[i][0]<=a+10:\n",
    "#                         a=hull2[i][0]\n",
    "#                         i+=1\n",
    "#                         flg=False\n",
    "#                 except:\n",
    "#                     #print(hull2[i],'ll')\n",
    "#                     i+=1\n",
    "#                     flg=False\n",
    "#                 if flg:\n",
    "#                     i+=1\n",
    "#             #print(hull3,'hull3')\n",
    "#             for i in hull3:\n",
    "#                 try:\n",
    "#                     cv2.circle(hand, tuple(i), 10, [255, 255, 0], 2)\n",
    "#                 except:\n",
    "#                     print(\"OOps\")\n",
    "            cv2.drawContours(hand, [hull], -1, (0, 255, 255), 2)\n",
    "            hull = cv2.convexHull(contours, returnPoints=False)\n",
    "            try:\n",
    "                defects = cv2.convexityDefects(contours, hull)\n",
    "            except:\n",
    "                pass\n",
    "            cnt=0\n",
    "            thumb=False\n",
    "            dF=False\n",
    "            if defects is not None:\n",
    "                cnt = 0\n",
    "                thumb=False\n",
    "                for i in range(defects.shape[0]):  # calculate the angle\n",
    "                    s, e, f, d = defects[i][0]\n",
    "                    start = tuple(contours[s][0])\n",
    "                    end = tuple(contours[e][0])\n",
    "                    far = tuple(contours[f][0])\n",
    "                    #print(far)\n",
    "                    #print(\"hi\")\n",
    "                    a = np.sqrt((end[0] - start[0]) ** 2 + (end[1] - start[1]) ** 2)\n",
    "                    b = np.sqrt((far[0] - start[0]) ** 2 + (far[1] - start[1]) ** 2)\n",
    "                    c = np.sqrt((end[0] - far[0]) ** 2 + (end[1] - far[1]) ** 2)\n",
    "                    angle = np.arccos((b ** 2 + c ** 2 - a ** 2) / (2 * b * c))  #      cosine theorem\n",
    "                    thumb=False\n",
    "                    if angle <= np.pi / 2:  # angle less than 90 degree, treat as fingers\n",
    "                        if angle>np.pi/4:\n",
    "                            thumb=True\n",
    "                        cnt += 1\n",
    "                        cv2.circle(hand, far, 4, [0, 0, 255], -1)\n",
    "                        #print(far,end=' ')\n",
    "                        dF=True\n",
    "\n",
    "    #                 if cnt>5:\n",
    "    #                     cnt=5\n",
    "            if cnt > 0:\n",
    "                cnt = cnt+1\n",
    "                frs+=1\n",
    "                to_fings.append(cnt)\n",
    "            \n",
    "#             if cnt<5 and thumb:\n",
    "#                 cnt+=5\n",
    "            \n",
    "            if frs>30:\n",
    "                ans=str(mode(to_fings))\n",
    "                #print(ans,end='{}}}')\n",
    "#                 if len(to_fings)>100:\n",
    "#                     to_fings = to_fings[-100:]\n",
    "        cv2.putText(hand, ans, (0, 50), cv2.FONT_HERSHEY_SIMPLEX,3, (255, 0, 0) , 2, cv2.LINE_AA)\n",
    "        cv2.imwrite(file_name.format(i),hand)\n",
    "        #print(\"hi\")\n",
    "        #print(\"hi\")\n",
    "        #print(frs)\n",
    "        #cv2.imshow(\"contours\", img)\n",
    "        #cv2.drawContours(hand, contours, -1, (0,255,0), 3)\n",
    "        cv2.imshow(\"frame\", frame)\n",
    "        cv2.imshow(\"mask\", mask)\n",
    "        cv2.imshow(\"result\", result)\n",
    "        cv2.imshow(\"hand\", hand)\n",
    "        #i+=1\n",
    "    except:\n",
    "        print('oops')\n",
    "        pass\n",
    "    key = cv2.waitKey(1)\n",
    "    if key==13:\n",
    "        frs = 0\n",
    "        to_fings=[]\n",
    "        print(ans)\n",
    "        ans = 'Recognizing...'\n",
    "    if key == 27:\n",
    "        break\n",
    "    #time.sleep(1)\n",
    "\n",
    "cap.release()\n",
    "cv2.destroyAllWindows()"
   ]
  },
  {
   "cell_type": "code",
   "execution_count": 4,
   "metadata": {
    "scrolled": true
   },
   "outputs": [],
   "source": [
    "cap = cv2.VideoCapture('video.mp4')\n",
    "file_name=\"Pics/img{}.jpg\"\n",
    "i=0\n",
    "frs=0\n",
    "while cap.isOpened():\n",
    "    frs+=1\n",
    "    _, frame = cap.read()\n",
    "    if _ ==False:\n",
    "        break\n",
    "    hsv = cv2.cvtColor(frame, cv2.COLOR_BGR2HSV)\n",
    "    \n",
    "    l_h,l_s,l_v = 73,104,0\n",
    "    u_h,u_s,u_v =179,255,255\n",
    "\n",
    "    lower_blue = np.array([l_h, l_s, l_v])\n",
    "    upper_blue = np.array([u_h, u_s, u_v])\n",
    "    mask = cv2.inRange(hsv, lower_blue, upper_blue)\n",
    "\n",
    "    result = cv2.bitwise_and(frame, frame, mask=mask)\n",
    "    mask1 = cv2.bitwise_not(mask)\n",
    "    hand = cv2.bitwise_and(frame, frame, mask=mask1)\n",
    "    contours, hierarchy = cv2.findContours(mask1, cv2.RETR_EXTERNAL, cv2.CHAIN_APPROX_SIMPLE)\n",
    "    if len(contours)>0:\n",
    "        contours = max(contours, key=lambda x: cv2.contourArea(x))\n",
    "        #print(len(contours))\n",
    "        cv2.drawContours(hand, [contours], -1, (255,255,0), 2)\n",
    "        hull = cv2.convexHull(contours)\n",
    "        top    = tuple(hull[hull[:, :, 1].argmin()][0])\n",
    "        bottom = tuple(hull[hull[:, :, 1].argmax()][0])\n",
    "        left   = tuple(hull[hull[:, :, 0].argmin()][0])\n",
    "        right  = tuple(hull[hull[:, :, 0].argmax()][0])\n",
    "        \n",
    "        cX = (left[0] + right[0]) // 2\n",
    "        cY = (top[1] + bottom[1]) // 2\n",
    "        cv2.drawContours(hand, [hull], -1, (0, 255, 255), 2)\n",
    "        count=0\n",
    "        #print(len(contours))\n",
    "        for cnt in contours:\n",
    "            (x, y, w, h) = cv2.boundingRect(cnt)\n",
    "            point_fings = ((cY + (cY * 0.25)) > (y + h))\n",
    "            \n",
    "            if  point_fings:\n",
    "                count += 1\n",
    "                try:\n",
    "                    cv2.rectangle(hand, (x,y),(x+w,y+h), [0, 0, 255], -1)\n",
    "                except:\n",
    "                    print('oops')\n",
    "        cv2.putText(hand, str(count), (0, 50), cv2.FONT_HERSHEY_SIMPLEX,1, (255, 0, 0) , 2, cv2.LINE_AA)\n",
    "        cv2.imwrite(file_name.format(i),hand)\n",
    "    #cv2.imshow(\"contours\", img)\n",
    "    #cv2.drawContours(hand, contours, -1, (0,255,0), 3)\n",
    "    cv2.imshow(\"frame\", frame)\n",
    "    cv2.imshow(\"mask\", mask)\n",
    "    cv2.imshow(\"result\", result)\n",
    "    cv2.imshow(\"hand\", hand)\n",
    "    i+=1\n",
    "    \n",
    "    key = cv2.waitKey(1)\n",
    "    if key == 27:\n",
    "        break\n",
    "    #time.sleep(1)\n",
    "\n",
    "cap.release()\n",
    "cv2.destroyAllWindows()"
   ]
  },
  {
   "cell_type": "code",
   "execution_count": 12,
   "metadata": {},
   "outputs": [
    {
     "data": {
      "text/plain": [
       "[]"
      ]
     },
     "execution_count": 12,
     "metadata": {},
     "output_type": "execute_result"
    }
   ],
   "source": [
    "to_fings"
   ]
  },
  {
   "cell_type": "code",
   "execution_count": 7,
   "metadata": {},
   "outputs": [
    {
     "data": {
      "text/plain": [
       "'C:\\\\Users\\\\kesha\\\\MiniProject'"
      ]
     },
     "execution_count": 7,
     "metadata": {},
     "output_type": "execute_result"
    }
   ],
   "source": [
    "import os\n",
    "os.getcwd()"
   ]
  },
  {
   "cell_type": "code",
   "execution_count": null,
   "metadata": {},
   "outputs": [],
   "source": []
  }
 ],
 "metadata": {
  "kernelspec": {
   "display_name": "Python 3",
   "language": "python",
   "name": "python3"
  },
  "language_info": {
   "codemirror_mode": {
    "name": "ipython",
    "version": 3
   },
   "file_extension": ".py",
   "mimetype": "text/x-python",
   "name": "python",
   "nbconvert_exporter": "python",
   "pygments_lexer": "ipython3",
   "version": "3.8.5"
  }
 },
 "nbformat": 4,
 "nbformat_minor": 4
}
