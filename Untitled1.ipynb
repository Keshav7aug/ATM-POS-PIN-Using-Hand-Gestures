{
 "cells": [
  {
   "cell_type": "code",
   "execution_count": 2,
   "metadata": {},
   "outputs": [],
   "source": [
    "import cv2\n",
    "import numpy as np"
   ]
  },
  {
   "cell_type": "code",
   "execution_count": 3,
   "metadata": {},
   "outputs": [],
   "source": [
    "def nothing(x):\n",
    "    pass\n",
    "\n"
   ]
  },
  {
   "cell_type": "code",
   "execution_count": 4,
   "metadata": {},
   "outputs": [],
   "source": [
    "cap = cv2.VideoCapture('http://192.168.0.102:4747/video')\n",
    "cv2.namedWindow(\"Trackbars\")\n",
    "\n",
    "cv2.createTrackbar(\"L – H\", \"Trackbars\", 0, 179, nothing)\n",
    "cv2.createTrackbar(\"L – S\", \"Trackbars\", 0, 255, nothing)\n",
    "cv2.createTrackbar(\"L – V\", \"Trackbars\", 0, 255, nothing)\n",
    "cv2.createTrackbar(\"U – H\", \"Trackbars\", 179, 179, nothing)\n",
    "cv2.createTrackbar(\"U – S\", \"Trackbars\", 255, 255, nothing)\n",
    "cv2.createTrackbar(\"U – V\", \"Trackbars\", 255, 255, nothing)\n",
    "\n",
    "while True:\n",
    "    try:\n",
    "        _, frame = cap.read()\n",
    "        hsv = cv2.cvtColor(frame, cv2.COLOR_BGR2HSV)\n",
    "\n",
    "        l_h = cv2.getTrackbarPos(\"L – H\", \"Trackbars\")\n",
    "        l_s = cv2.getTrackbarPos(\"L – S\", \"Trackbars\")\n",
    "        l_v = cv2.getTrackbarPos(\"L – V\", \"Trackbars\")\n",
    "        u_h = cv2.getTrackbarPos(\"U – H\", \"Trackbars\")\n",
    "        u_s = cv2.getTrackbarPos(\"U – S\", \"Trackbars\")\n",
    "        u_v = cv2.getTrackbarPos(\"U – V\", \"Trackbars\")\n",
    "\n",
    "        lower_blue = np.array([l_h, l_s, l_v])\n",
    "        upper_blue = np.array([u_h, u_s, u_v])\n",
    "        mask = cv2.inRange(hsv, lower_blue, upper_blue)\n",
    "\n",
    "        result = cv2.bitwise_and(frame, frame, mask=mask)\n",
    "\n",
    "        cv2.imshow(\"frame\", frame)\n",
    "        cv2.imshow(\"mask\", mask)\n",
    "        cv2.imshow(\"result\", result)\n",
    "    except:\n",
    "        print('oops')\n",
    "    key = cv2.waitKey(1)\n",
    "    if key == 27:\n",
    "        break\n",
    "\n",
    "cap.release()\n",
    "cv2.destroyAllWindows()"
   ]
  },
  {
   "cell_type": "code",
   "execution_count": null,
   "metadata": {},
   "outputs": [],
   "source": []
  }
 ],
 "metadata": {
  "kernelspec": {
   "display_name": "Python 3",
   "language": "python",
   "name": "python3"
  },
  "language_info": {
   "codemirror_mode": {
    "name": "ipython",
    "version": 3
   },
   "file_extension": ".py",
   "mimetype": "text/x-python",
   "name": "python",
   "nbconvert_exporter": "python",
   "pygments_lexer": "ipython3",
   "version": "3.8.5"
  }
 },
 "nbformat": 4,
 "nbformat_minor": 4
}
